{
 "cells": [
  {
   "cell_type": "code",
   "execution_count": 12,
   "metadata": {},
   "outputs": [],
   "source": [
    "import numpy as np\n",
    "import os"
   ]
  },
  {
   "cell_type": "code",
   "execution_count": 13,
   "metadata": {},
   "outputs": [],
   "source": [
    "def valid_resolvent(c1, c2, res):\n",
    "    if ((res > 1) | (res < -1)).sum(): return False\n",
    "\n",
    "    for c in [c1, c2]:\n",
    "        nonzero_zero = 0\n",
    "\n",
    "        for i in range(len(res)):\n",
    "            if c[i] != 0:\n",
    "                if res[i] == 0: nonzero_zero += 1\n",
    "                if nonzero_zero > 1: return False\n",
    "    \n",
    "    not_change = 0\n",
    "    for i in range(len(res)):\n",
    "        if (c1[i] == res[i]) | (c2[i] == res[i]): not_change += 1\n",
    "    if not_change >= res.shape[0]: return False\n",
    "\n",
    "    return True\n",
    "\n",
    "def new(clauses, res):\n",
    "    return not(res == clauses).all(1).any()\n",
    "\n",
    "def alpha_encoder(alpha):\n",
    "    return np.array([clause_encoder(c) for c in alpha.split(' OR ')]) * -1\n",
    "\n",
    "def clause_encoder(clause):\n",
    "    literals = [x.strip() for x in clause.split('OR')]\n",
    "    encoded = np.zeros(len(encode_table)).astype(int)\n",
    "\n",
    "    for l in literals:\n",
    "        if l[0] == '-':\n",
    "            encoded[encode_table[l[-1]]] = -1\n",
    "        else:\n",
    "            encoded[encode_table[l]] = 1\n",
    "        \n",
    "    return encoded\n",
    "\n",
    "def clause_decoder(encoded):\n",
    "    if not encoded.any(): return '{}'\n",
    "    \n",
    "    temp = (encoded + 1)\n",
    "    return ' OR '.join([decode_table[i][temp[i]] for i in range(len(temp)) if temp[i] != 1])\n",
    "\n",
    "def print_clauses(clauses, start, end):\n",
    "    output = ''\n",
    "    output += str(end - start) + '\\n'\n",
    "\n",
    "    for i in range(start, end):\n",
    "        output += clause_decoder(clauses[i]) + '\\n'\n",
    "    return output\n",
    "\n",
    "def read_input(file_name):\n",
    "    with open(file_name) as f:\n",
    "        lines = f.readlines()\n",
    "        alpha = lines[0].strip()\n",
    "        clauses = [x.strip() for x in lines[2:]]\n",
    "        return alpha, clauses\n",
    "\n",
    "def write_output(file_name, output):\n",
    "    with open(file_name, 'w') as f:\n",
    "        f.write(output)\n",
    "\n",
    "def PL_RESOLUTION(encoded_clauses):\n",
    "    output = ''\n",
    "\n",
    "    old_end_index = len(encoded_clauses)\n",
    "    new_start_index = 0\n",
    "    new_end_index = len(encoded_clauses) \n",
    "\n",
    "    while True:\n",
    "        for i in range(0, old_end_index):\n",
    "            for j in range(new_start_index, new_end_index):\n",
    "                c1 = encoded_clauses[i]\n",
    "                c2 = encoded_clauses[j]\n",
    "                res = c1 + c2\n",
    "                if valid_resolvent(c1, c2, res) and new(encoded_clauses, res):\n",
    "                    encoded_clauses = np.append(encoded_clauses, res.reshape(1, -1), axis=0)\n",
    "\n",
    "        output += print_clauses(encoded_clauses, new_end_index, len(encoded_clauses))\n",
    "\n",
    "        if new_end_index == len(encoded_clauses): return output + 'NO'\n",
    "        if (encoded_clauses.any(axis = 1) == False).sum() == 1: return output + 'YES'\n",
    "\n",
    "        new_start_index = new_end_index\n",
    "        old_end_index = new_end_index\n",
    "        new_end_index = len(encoded_clauses)"
   ]
  },
  {
   "cell_type": "code",
   "execution_count": 14,
   "metadata": {},
   "outputs": [],
   "source": [
    "cwd = os.getcwd()\n",
    "input_folder = os.path.join(cwd, 'INPUT')\n",
    "\n",
    "for input_file in os.listdir(input_folder):\n",
    "    file_name = os.path.join(input_folder, input_file)\n",
    "    alpha, clauses = read_input(file_name)\n",
    "\n",
    "    keys = []\n",
    "    for c in clauses + [alpha]:\n",
    "        ls = c.split('OR')\n",
    "        for k in ls:\n",
    "            k = k.strip().strip('-')\n",
    "            if k not in keys:\n",
    "                keys.append(k)\n",
    "\n",
    "    encode_table = dict(zip(keys, range(len(keys))))\n",
    "    encode_table\n",
    "\n",
    "    decode_table = np.array([[f'-{c}', '', c] for c in keys])\n",
    "\n",
    "    encoded_clauses = np.array([clause_encoder(c) for c in clauses])\n",
    "    alpha_break = alpha_encoder(alpha)\n",
    "    encoded_clauses = np.vstack([encoded_clauses, alpha_break])\n",
    "\n",
    "    output_file = os.path.join(cwd, 'OUTPUT', 'output' + file_name[-5] + '.txt')\n",
    "    write_output(output_file, PL_RESOLUTION(encoded_clauses))"
   ]
  },
  {
   "cell_type": "code",
   "execution_count": 15,
   "metadata": {},
   "outputs": [
    {
     "data": {
      "text/plain": [
       "['-A OR B', 'B OR -C', 'A OR -B OR C', '-B', '-A']"
      ]
     },
     "execution_count": 15,
     "metadata": {},
     "output_type": "execute_result"
    }
   ],
   "source": [
    "clauses + [alpha]"
   ]
  },
  {
   "cell_type": "code",
   "execution_count": 16,
   "metadata": {},
   "outputs": [
    {
     "data": {
      "text/plain": [
       "['-A OR B', 'B OR -C', 'A OR -B OR C', '-B']"
      ]
     },
     "execution_count": 16,
     "metadata": {},
     "output_type": "execute_result"
    }
   ],
   "source": [
    "clauses"
   ]
  },
  {
   "cell_type": "code",
   "execution_count": null,
   "metadata": {},
   "outputs": [],
   "source": []
  }
 ],
 "metadata": {
  "kernelspec": {
   "display_name": "Python 3.8.8 ('min_ds-env')",
   "language": "python",
   "name": "python3"
  },
  "language_info": {
   "codemirror_mode": {
    "name": "ipython",
    "version": 3
   },
   "file_extension": ".py",
   "mimetype": "text/x-python",
   "name": "python",
   "nbconvert_exporter": "python",
   "pygments_lexer": "ipython3",
   "version": "3.8.8"
  },
  "orig_nbformat": 4,
  "vscode": {
   "interpreter": {
    "hash": "8761cdb9765bcae96d62febb66cb232c06e88303db4bdff047a89cac81065564"
   }
  }
 },
 "nbformat": 4,
 "nbformat_minor": 2
}
