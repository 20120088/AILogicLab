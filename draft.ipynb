{
 "cells": [
  {
   "cell_type": "code",
   "execution_count": 1,
   "metadata": {},
   "outputs": [],
   "source": [
    "import numpy as np\n",
    "import os"
   ]
  },
  {
   "cell_type": "code",
   "execution_count": 2,
   "metadata": {},
   "outputs": [],
   "source": [
    "def valid_resolvent(c1, c2, res):\n",
    "    if ((res > 1) | (res < -1)).sum(): return False\n",
    "\n",
    "    duality = 0\n",
    "    for i in range(len(res)):\n",
    "        if (c1[i] * c2[i] == -1): duality += 1\n",
    "    if duality != 1: return False\n",
    "\n",
    "    return True\n",
    "\n",
    "def new(clauses, res):\n",
    "    return not(res == clauses).all(1).any()\n",
    "\n",
    "def alpha_encoder(alpha):\n",
    "    return np.array([clause_encoder(c) for c in alpha.split(' OR ')]) * -1\n",
    "\n",
    "def clause_encoder(clause):\n",
    "    literals = [x.strip() for x in clause.split('OR')]\n",
    "    encoded = np.zeros(len(encode_table)).astype(int)\n",
    "\n",
    "    for l in literals:\n",
    "        if l[0] == '-':\n",
    "            encoded[encode_table[l[-1]]] = -1\n",
    "        else:\n",
    "            encoded[encode_table[l]] = 1\n",
    "        \n",
    "    return encoded\n",
    "\n",
    "def clause_decoder(encoded):\n",
    "    if not encoded.any(): return '{}'\n",
    "    \n",
    "    temp = (encoded + 1)\n",
    "    return ' OR '.join([decode_table[i][temp[i]] for i in range(len(temp)) if temp[i] != 1])\n",
    "\n",
    "def print_clauses(clauses, start, end):\n",
    "    output = ''\n",
    "    output += str(end - start) + '\\n'\n",
    "\n",
    "    for i in range(start, end):\n",
    "        output += clause_decoder(clauses[i]) + '\\n'\n",
    "    return output\n",
    "\n",
    "def read_input(file_name):\n",
    "    with open(file_name) as f:\n",
    "        lines = f.readlines()\n",
    "        alpha = lines[0].strip()\n",
    "        clauses = [x.strip() for x in lines[2:]]\n",
    "        return alpha, clauses\n",
    "\n",
    "def write_output(file_name, output):\n",
    "    with open(file_name, 'w') as f:\n",
    "        f.write(output)\n",
    "\n",
    "def PL_RESOLUTION(encoded_clauses):\n",
    "    output = ''\n",
    "\n",
    "    old_end_index = len(encoded_clauses)\n",
    "    new_start_index = 0\n",
    "    new_end_index = len(encoded_clauses) \n",
    "\n",
    "    while True:\n",
    "        for i in range(0, old_end_index):\n",
    "            for j in range(new_start_index, new_end_index):\n",
    "                c1 = encoded_clauses[i]\n",
    "                c2 = encoded_clauses[j]\n",
    "                res = c1 + c2\n",
    "                if valid_resolvent(c1, c2, res) and new(encoded_clauses, res):\n",
    "                    encoded_clauses = np.append(encoded_clauses, res.reshape(1, -1), axis=0)\n",
    "\n",
    "        output += print_clauses(encoded_clauses, new_end_index, len(encoded_clauses))\n",
    "\n",
    "        if new_end_index == len(encoded_clauses): return output + 'NO'\n",
    "        if (encoded_clauses.any(axis = 1) == False).sum() == 1: return output + 'YES'\n",
    "\n",
    "        new_start_index = new_end_index\n",
    "        old_end_index = new_end_index\n",
    "        new_end_index = len(encoded_clauses)"
   ]
  },
  {
   "cell_type": "code",
   "execution_count": 11,
   "metadata": {},
   "outputs": [
    {
     "ename": "ValueError",
     "evalue": "all the input array dimensions for the concatenation axis must match exactly, but along dimension 1, the array at index 0 has size 4 and the array at index 1 has size 1",
     "output_type": "error",
     "traceback": [
      "\u001b[1;31m---------------------------------------------------------------------------\u001b[0m",
      "\u001b[1;31mValueError\u001b[0m                                Traceback (most recent call last)",
      "Cell \u001b[1;32mIn [11], line 22\u001b[0m\n\u001b[0;32m     19\u001b[0m decode_table \u001b[39m=\u001b[39m np\u001b[39m.\u001b[39marray([[\u001b[39mf\u001b[39m\u001b[39m'\u001b[39m\u001b[39m-\u001b[39m\u001b[39m{\u001b[39;00mc\u001b[39m}\u001b[39;00m\u001b[39m'\u001b[39m, \u001b[39m'\u001b[39m\u001b[39m'\u001b[39m, c] \u001b[39mfor\u001b[39;00m c \u001b[39min\u001b[39;00m keys])\n\u001b[0;32m     21\u001b[0m alpha_break \u001b[39m=\u001b[39m alpha\u001b[39m.\u001b[39msplit(\u001b[39m'\u001b[39m\u001b[39m OR \u001b[39m\u001b[39m'\u001b[39m)\n\u001b[1;32m---> 22\u001b[0m clauses \u001b[39m=\u001b[39m np\u001b[39m.\u001b[39;49mvstack([clauses, alpha_break])\n\u001b[0;32m     23\u001b[0m encoded_clauses \u001b[39m=\u001b[39m np\u001b[39m.\u001b[39marray([clause_encoder(c) \u001b[39mfor\u001b[39;00m c \u001b[39min\u001b[39;00m clauses])\n\u001b[0;32m     25\u001b[0m output_file \u001b[39m=\u001b[39m os\u001b[39m.\u001b[39mpath\u001b[39m.\u001b[39mjoin(cwd, \u001b[39m'\u001b[39m\u001b[39mOUTPUT\u001b[39m\u001b[39m'\u001b[39m, \u001b[39m'\u001b[39m\u001b[39moutput\u001b[39m\u001b[39m'\u001b[39m \u001b[39m+\u001b[39m file_name[\u001b[39m-\u001b[39m\u001b[39m5\u001b[39m] \u001b[39m+\u001b[39m \u001b[39m'\u001b[39m\u001b[39m.txt\u001b[39m\u001b[39m'\u001b[39m)\n",
      "File \u001b[1;32m<__array_function__ internals>:5\u001b[0m, in \u001b[0;36mvstack\u001b[1;34m(*args, **kwargs)\u001b[0m\n",
      "File \u001b[1;32mc:\\Users\\thanh\\miniconda3\\envs\\min_ds-env\\lib\\site-packages\\numpy\\core\\shape_base.py:283\u001b[0m, in \u001b[0;36mvstack\u001b[1;34m(tup)\u001b[0m\n\u001b[0;32m    281\u001b[0m \u001b[39mif\u001b[39;00m \u001b[39mnot\u001b[39;00m \u001b[39misinstance\u001b[39m(arrs, \u001b[39mlist\u001b[39m):\n\u001b[0;32m    282\u001b[0m     arrs \u001b[39m=\u001b[39m [arrs]\n\u001b[1;32m--> 283\u001b[0m \u001b[39mreturn\u001b[39;00m _nx\u001b[39m.\u001b[39;49mconcatenate(arrs, \u001b[39m0\u001b[39;49m)\n",
      "File \u001b[1;32m<__array_function__ internals>:5\u001b[0m, in \u001b[0;36mconcatenate\u001b[1;34m(*args, **kwargs)\u001b[0m\n",
      "\u001b[1;31mValueError\u001b[0m: all the input array dimensions for the concatenation axis must match exactly, but along dimension 1, the array at index 0 has size 4 and the array at index 1 has size 1"
     ]
    }
   ],
   "source": [
    "cwd = os.getcwd()\n",
    "input_folder = os.path.join(cwd, 'INPUT')\n",
    "\n",
    "for input_file in os.listdir(input_folder):\n",
    "    file_name = os.path.join(input_folder, input_file)\n",
    "    alpha, clauses = read_input(file_name)\n",
    "\n",
    "    keys = []\n",
    "    for c in clauses + [alpha]:\n",
    "        ls = c.split('OR')\n",
    "        for k in ls:\n",
    "            k = k.strip().strip('-')\n",
    "            if k not in keys:\n",
    "                keys.append(k)\n",
    "\n",
    "    encode_table = dict(zip(keys, range(len(keys))))\n",
    "    encode_table\n",
    "\n",
    "    decode_table = np.array([[f'-{c}', '', c] for c in keys])\n",
    "\n",
    "    alpha_break = alpha.split(' OR ')\n",
    "    clauses += alpha_break\n",
    "    encoded_clauses = np.array([clause_encoder(c) for c in clauses])\n",
    "\n",
    "    output_file = os.path.join(cwd, 'OUTPUT', 'output' + file_name[-5] + '.txt')\n",
    "    write_output(output_file, PL_RESOLUTION(encoded_clauses))"
   ]
  },
  {
   "cell_type": "code",
   "execution_count": 12,
   "metadata": {},
   "outputs": [
    {
     "data": {
      "text/plain": [
       "['-A']"
      ]
     },
     "execution_count": 12,
     "metadata": {},
     "output_type": "execute_result"
    }
   ],
   "source": [
    "alpha_break"
   ]
  },
  {
   "cell_type": "code",
   "execution_count": 14,
   "metadata": {},
   "outputs": [],
   "source": [
    "clauses += alpha_break"
   ]
  },
  {
   "cell_type": "code",
   "execution_count": 15,
   "metadata": {},
   "outputs": [
    {
     "data": {
      "text/plain": [
       "['-A OR B', 'B OR -C', 'A OR -B OR C', '-B', '-A']"
      ]
     },
     "execution_count": 15,
     "metadata": {},
     "output_type": "execute_result"
    }
   ],
   "source": [
    "clauses"
   ]
  },
  {
   "cell_type": "code",
   "execution_count": null,
   "metadata": {},
   "outputs": [],
   "source": []
  }
 ],
 "metadata": {
  "kernelspec": {
   "display_name": "Python 3.8.8 ('min_ds-env')",
   "language": "python",
   "name": "python3"
  },
  "language_info": {
   "codemirror_mode": {
    "name": "ipython",
    "version": 3
   },
   "file_extension": ".py",
   "mimetype": "text/x-python",
   "name": "python",
   "nbconvert_exporter": "python",
   "pygments_lexer": "ipython3",
   "version": "3.8.8"
  },
  "orig_nbformat": 4,
  "vscode": {
   "interpreter": {
    "hash": "8761cdb9765bcae96d62febb66cb232c06e88303db4bdff047a89cac81065564"
   }
  }
 },
 "nbformat": 4,
 "nbformat_minor": 2
}
